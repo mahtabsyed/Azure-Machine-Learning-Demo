{
 "cells": [
  {
   "cell_type": "code",
   "execution_count": null,
   "metadata": {},
   "outputs": [],
   "source": [
    "from utils import *"
   ]
  },
  {
   "cell_type": "code",
   "execution_count": null,
   "metadata": {},
   "outputs": [],
   "source": [
    "from azureml.core import Workspace\n",
    "\n",
    "# Configure experiment\n",
    "ws = Workspace.from_config()"
   ]
  },
  {
   "cell_type": "code",
   "execution_count": null,
   "metadata": {},
   "outputs": [],
   "source": [
    "# Create or get training cluster\n",
    "aml_cluster = get_aml_cluster(ws, cluster_name=\"cpu-cluster\")\n",
    "aml_cluster.wait_for_completion(show_output=True)"
   ]
  },
  {
   "cell_type": "code",
   "execution_count": null,
   "metadata": {},
   "outputs": [],
   "source": [
    "# Create a run configuration\n",
    "run_conf = get_run_config(['numpy', 'pandas', 'scikit-learn', 'tensorflow'])"
   ]
  },
  {
   "cell_type": "code",
   "execution_count": null,
   "metadata": {},
   "outputs": [],
   "source": [
    "from azureml.core import Dataset\n",
    "\n",
    "dataset = Dataset.get_by_name(ws, name='titanic')\n",
    "data_in = dataset.as_named_input('titanic')"
   ]
  },
  {
   "cell_type": "code",
   "execution_count": null,
   "metadata": {},
   "outputs": [],
   "source": [
    "from azureml.core import Datastore\n",
    "from azureml.pipeline.core import PipelineData\n",
    "\n",
    "datastore = Datastore.get(ws, datastore_name=\"mldata\")\n",
    "data_train = PipelineData('train', datastore=datastore)\n",
    "data_test = PipelineData('test', datastore=datastore)"
   ]
  },
  {
   "cell_type": "code",
   "execution_count": null,
   "metadata": {},
   "outputs": [],
   "source": [
    "from azureml.data import OutputFileDatasetConfig\n",
    "\n",
    "data_out = OutputFileDatasetConfig(name=\"predictions\", destination=(datastore, 'titanic/predictions'))\n",
    "data_out = data_out.read_delimited_files().register_on_complete('titanic.pred')"
   ]
  },
  {
   "cell_type": "code",
   "execution_count": null,
   "metadata": {},
   "outputs": [],
   "source": [
    "from azureml.pipeline.steps import PythonScriptStep\n",
    "\n",
    "step_1 = PythonScriptStep(name='Preprocessing',\n",
    "                          script_name=\"preprocess_output.py\",\n",
    "                          source_directory=\"code\",\n",
    "                          arguments=[\n",
    "                              \"--input\", data_in,\n",
    "                              \"--out-train\", data_train,\n",
    "                              \"--out-test\", data_test],\n",
    "                          inputs=[data_in],\n",
    "                          outputs=[data_train, data_test],\n",
    "                          runconfig=run_conf,\n",
    "                          compute_target=aml_cluster)\n"
   ]
  },
  {
   "cell_type": "code",
   "execution_count": null,
   "metadata": {},
   "outputs": [],
   "source": [
    "from azureml.pipeline.core.graph import PipelineParameter\n",
    "\n",
    "lr_param = PipelineParameter(name=\"lr_arg\", default_value=0.01)"
   ]
  },
  {
   "cell_type": "code",
   "execution_count": null,
   "metadata": {},
   "outputs": [],
   "source": [
    "from azureml.pipeline.steps import PythonScriptStep\n",
    "\n",
    "step_2 = PythonScriptStep(name='Training',\n",
    "                          script_name=\"train_output.py\",\n",
    "                          source_directory=\"code\",\n",
    "                          arguments=[\n",
    "                              \"--in-train\", data_train,\n",
    "                              \"--in-test\", data_test,\n",
    "                              \"--output\", data_out,\n",
    "                              \"--learning-rate\", lr_param],\n",
    "                          inputs=[data_train, data_test],\n",
    "                          outputs=[data_out],\n",
    "                          runconfig=run_conf,\n",
    "                          compute_target=aml_cluster)"
   ]
  },
  {
   "cell_type": "code",
   "execution_count": null,
   "metadata": {},
   "outputs": [],
   "source": [
    "from azureml.pipeline.core import Pipeline\n",
    "\n",
    "pipeline = Pipeline(ws, steps=[step_1, step_2])"
   ]
  },
  {
   "cell_type": "code",
   "execution_count": null,
   "metadata": {},
   "outputs": [],
   "source": [
    "pipeline.validate()"
   ]
  },
  {
   "cell_type": "code",
   "execution_count": null,
   "metadata": {},
   "outputs": [],
   "source": [
    "service = pipeline.publish(name=\"AzureML Published Pipeline\", version=\"1.0\")\n",
    "\n",
    "print(service)\n",
    "service_id = service.id\n",
    "service_endpoint = service.endpoint"
   ]
  },
  {
   "cell_type": "code",
   "execution_count": null,
   "metadata": {},
   "outputs": [],
   "source": [
    "from azureml.pipeline.core import PipelineEndpoint\n",
    "\n",
    "endpoint = PipelineEndpoint.publish(ws, pipeline=service, name=\"AzureML Published Pipeline Endpoint\", description=\"Mastering Azure Machine Learning\")\n",
    "\n",
    "print(endpoint)\n",
    "service_id = endpoint.id\n",
    "service_endpoint = endpoint.endpoint"
   ]
  },
  {
   "cell_type": "code",
   "execution_count": null,
   "metadata": {},
   "outputs": [],
   "source": [
    "from azureml.core.authentication import AzureCliAuthentication\n",
    "\n",
    "cli_auth = AzureCliAuthentication()\n",
    "aad_token = cli_auth.get_authentication_header()"
   ]
  },
  {
   "cell_type": "code",
   "execution_count": null,
   "metadata": {},
   "outputs": [],
   "source": [
    "import requests\n",
    "\n",
    "request = {\n",
    "    \"ExperimentName\": \"azureml-pipeline-trigger\",\n",
    "    \"ParameterAssignments\": {\n",
    "        \"lr_arg\": 0.05\n",
    "    }\n",
    "}\n",
    "\n",
    "response = requests.post(service_endpoint, headers=aad_token, json=request)\n",
    "print(response.json)"
   ]
  },
  {
   "cell_type": "code",
   "execution_count": null,
   "metadata": {},
   "outputs": [],
   "source": [
    "# service.disable()\n",
    "# endpoint.disable()"
   ]
  }
 ],
 "metadata": {
  "interpreter": {
   "hash": "c39ce73b6d48f343ffd00681afb9b3f63104480cfaffe0ebb445fe41a6801158"
  },
  "kernelspec": {
   "display_name": "Python 3.8.2 64-bit ('packt-repo-M2qY5kM-': pipenv)",
   "name": "python3"
  },
  "language_info": {
   "codemirror_mode": {
    "name": "ipython",
    "version": 3
   },
   "file_extension": ".py",
   "mimetype": "text/x-python",
   "name": "python",
   "nbconvert_exporter": "python",
   "pygments_lexer": "ipython3",
   "version": "3.8.2"
  }
 },
 "nbformat": 4,
 "nbformat_minor": 4
}
