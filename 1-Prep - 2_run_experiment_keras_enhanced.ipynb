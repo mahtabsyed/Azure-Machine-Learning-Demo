{
 "cells": [
  {
   "cell_type": "code",
   "execution_count": 1,
   "metadata": {},
   "outputs": [
    {
     "name": "stderr",
     "output_type": "stream",
     "text": [
      "Warning: Falling back to use azure cli login credentials.\n",
      "If you run your code in unattended mode, i.e., where you can't give a user input, then we recommend to use ServicePrincipalAuthentication or MsiAuthentication.\n",
      "Please refer to aka.ms/aml-notebook-auth for different authentication mechanisms in azureml-sdk.\n"
     ]
    }
   ],
   "source": [
    "from azureml.core import Workspace, Experiment\n",
    "\n",
    "ws = Workspace.from_config()\n",
    "exp = Experiment(workspace=ws, name=\"cifar10_cnn_local\")"
   ]
  },
  {
   "cell_type": "code",
   "execution_count": 2,
   "metadata": {},
   "outputs": [
    {
     "name": "stderr",
     "output_type": "stream",
     "text": [
      "2022-11-14 14:07:44.380095: I tensorflow/core/platform/cpu_feature_guard.cc:193] This TensorFlow binary is optimized with oneAPI Deep Neural Network Library (oneDNN) to use the following CPU instructions in performance-critical operations:  AVX2 FMA\n",
      "To enable them in other operations, rebuild TensorFlow with the appropriate compiler flags.\n"
     ]
    },
    {
     "name": "stdout",
     "output_type": "stream",
     "text": [
      "x_train shape: (50000, 32, 32, 3)\n",
      "50000 train samples\n",
      "10000 test samples\n"
     ]
    },
    {
     "name": "stderr",
     "output_type": "stream",
     "text": [
      "2022-11-14 14:08:37.144962: I tensorflow/core/platform/cpu_feature_guard.cc:193] This TensorFlow binary is optimized with oneAPI Deep Neural Network Library (oneDNN) to use the following CPU instructions in performance-critical operations:  AVX2 FMA\n",
      "To enable them in other operations, rebuild TensorFlow with the appropriate compiler flags.\n"
     ]
    }
   ],
   "source": [
    "import tensorflow\n",
    "from keras.datasets import cifar10\n",
    "from keras import layers, Sequential, optimizers, models\n",
    "from keras.callbacks import ModelCheckpoint\n",
    "\n",
    "import os\n",
    "\n",
    "# Keras settings\n",
    "batch_size = 32\n",
    "num_classes = 10\n",
    "epochs = 5\n",
    "num_predictions = 20\n",
    "\n",
    "# the data split between train and test sets\n",
    "(x_train, y_train), (x_test, y_test) = cifar10.load_data()\n",
    "print('x_train shape:', x_train.shape)\n",
    "print(x_train.shape[0], 'train samples')\n",
    "print(x_test.shape[0], 'test samples')\n",
    "\n",
    "# convert class vectors to binary class matrices\n",
    "y_train = tensorflow.keras.utils.to_categorical(y_train, num_classes)\n",
    "y_test = tensorflow.keras.utils.to_categorical(y_test, num_classes)\n",
    "\n",
    "x_train = x_train.astype('float32')\n",
    "x_test = x_test.astype('float32')\n",
    "x_train /= 255\n",
    "x_test /= 255\n",
    "\n",
    "# define the model type \n",
    "model = Sequential()\n",
    "model.add(layers.Conv2D(32, (3, 3), input_shape=x_train.shape[1:]))\n",
    "model.add(layers.Activation('relu'))\n",
    "model.add(layers.MaxPooling2D(pool_size=(2, 2)))\n",
    "model.add(layers.Dropout(0.25))\n",
    "\n",
    "model.add(layers.Conv2D(64, (3, 3)))\n",
    "model.add(layers.Activation('relu'))\n",
    "model.add(layers.MaxPooling2D(pool_size=(2, 2)))\n",
    "model.add(layers.Dropout(0.25))\n",
    "\n",
    "model.add(layers.Flatten())\n",
    "model.add(layers.Dense(128))\n",
    "model.add(layers.Activation('relu'))\n",
    "model.add(layers.Dropout(0.5))\n",
    "model.add(layers.Dense(num_classes))\n",
    "model.add(layers.Activation('softmax'))\n",
    "\n",
    "# define model name and file locations\n",
    "model_name = 'keras_cifar10_trained_model.h5'\n",
    "model_output_dir = os.path.join(os.getcwd(), 'outputs')\n",
    "\n",
    "# initiate RMSprop optimizer (https://keras.io/api/optimizers/rmsprop/)\n",
    "opt = optimizers.RMSprop(learning_rate=0.0001, decay=1e-6)\n",
    "\n",
    "# define checkpoint function to only save the model after each epoch if it is \"better\"\n",
    "# (decided based on the validation loss function) in the output file path\n",
    "if not os.path.isdir(model_output_dir):\n",
    "    os.makedirs(model_output_dir)\n",
    "model_path = os.path.join(model_output_dir, model_name)\n",
    "checkpoint_cb = ModelCheckpoint(model_path, monitor='val_loss', save_best_only=True)\n",
    "\n",
    "# define the loss function, optimizer and additionally tracked metrics of the model training\n",
    "# (https://keras.io/api/losses/probabilistic_losses/#categoricalcrossentropy-class)\n",
    "model.compile(loss='categorical_crossentropy',\n",
    "              optimizer=opt,\n",
    "              metrics=['accuracy'])"
   ]
  },
  {
   "cell_type": "code",
   "execution_count": 3,
   "metadata": {},
   "outputs": [],
   "source": [
    "from azureml.core import Run\n",
    "\n",
    "# define function to get the best value of a specific metric of all runs in the experiment\n",
    "def get_metrics_from_exp(experiment, metric, status='Completed'):\n",
    "    for run in Run.list(exp, status=status):\n",
    "        yield run.get_metrics().get(metric)\n",
    "\n",
    "# import callback python script from code folder\n",
    "from code.keras_azure_ml_cb import AzureMlKerasCallback"
   ]
  },
  {
   "cell_type": "code",
   "execution_count": 4,
   "metadata": {},
   "outputs": [
    {
     "name": "stdout",
     "output_type": "stream",
     "text": [
      "Epoch 1/5\n",
      "1250/1250 [==============================] - 54s 42ms/step - loss: 2.0489 - accuracy: 0.2426 - val_loss: 1.8481 - val_accuracy: 0.3716\n",
      "Epoch 2/5\n",
      "1250/1250 [==============================] - 74s 59ms/step - loss: 1.7892 - accuracy: 0.3524 - val_loss: 1.6709 - val_accuracy: 0.4212\n",
      "Epoch 3/5\n",
      "1250/1250 [==============================] - 64s 51ms/step - loss: 1.6598 - accuracy: 0.3987 - val_loss: 1.5572 - val_accuracy: 0.4607\n",
      "Epoch 4/5\n",
      "1250/1250 [==============================] - 58s 46ms/step - loss: 1.5667 - accuracy: 0.4350 - val_loss: 1.4623 - val_accuracy: 0.4962\n",
      "Epoch 5/5\n",
      "1250/1250 [==============================] - 61s 49ms/step - loss: 1.4997 - accuracy: 0.4578 - val_loss: 1.4126 - val_accuracy: 0.5092\n",
      "313/313 [==============================] - 3s 9ms/step - loss: 1.4003 - accuracy: 0.5133\n",
      "Test loss of best model: 1.4003421068191528\n",
      "Test accuracy of best model: 0.5133000016212463\n"
     ]
    },
    {
     "name": "stderr",
     "output_type": "stream",
     "text": [
      "Tfkeras will be deprecated soon. Use Model.Framework.TENSORFLOW instead.\n"
     ]
    }
   ],
   "source": [
    "# Create a run\n",
    "with exp.start_logging(snapshot_directory='.') as run:\n",
    "\n",
    "    # create an Azure Machine Learning monitor callback\n",
    "    azureml_cb = AzureMlKerasCallback(run)\n",
    "\n",
    "    # train the model for a certain number of epochs\n",
    "    model.fit(x_train, y_train,\n",
    "            batch_size=batch_size,\n",
    "            epochs=epochs,\n",
    "            validation_split = 0.2,\n",
    "            shuffle=True,\n",
    "            callbacks=[azureml_cb, checkpoint_cb])\n",
    "\n",
    "    # load the overall best model of all epochs into the model object\n",
    "    model = models.load_model(model_path)\n",
    "\n",
    "    # evaluate the best model against the test dataset and log them to Azure ML\n",
    "    scores = model.evaluate(x_test, y_test, verbose=1)\n",
    "    print('Test loss of best model:', scores[0])\n",
    "    run.log('Test loss', scores[0])\n",
    "    print('Test accuracy of best model:', scores[1])\n",
    "    run.log('Test accuracy', scores[1])\n",
    "\n",
    "    # Upload the model binary file(s) of the best model\n",
    "    run.upload_file(model_name, model_path)\n",
    "\n",
    "    # get the best accuracy out of every run before\n",
    "    best_test_acc = max(get_metrics_from_exp(exp, 'Test accuracy'), default=0)\n",
    "\n",
    "    # Register the best model if it is better than in any previous model training\n",
    "    if scores[1] > best_test_acc:\n",
    "        run.register_model(model_name, model_path=model_name, model_framework='TfKeras')\n",
    "  \n"
   ]
  },
  {
   "cell_type": "code",
   "execution_count": 5,
   "metadata": {},
   "outputs": [
    {
     "name": "stdout",
     "output_type": "stream",
     "text": [
      "<generator object get_metrics_from_exp at 0x7f88238fd740>\n",
      "0.5133000016212463\n",
      "0.5077000260353088\n",
      "0.5090000033378601\n",
      "0.5105999708175659\n"
     ]
    }
   ],
   "source": [
    "# Checking the run metrics\n",
    "print(get_metrics_from_exp(exp, 'Test accuracy'))\n",
    "for metrics_run in get_metrics_from_exp(exp, 'Test accuracy'):\n",
    "    print(metrics_run)"
   ]
  },
  {
   "cell_type": "code",
   "execution_count": null,
   "metadata": {},
   "outputs": [],
   "source": []
  }
 ],
 "metadata": {
  "kernelspec": {
   "display_name": "Python 3.9.6 ('.venv': venv)",
   "language": "python",
   "name": "python3"
  },
  "language_info": {
   "codemirror_mode": {
    "name": "ipython",
    "version": 3
   },
   "file_extension": ".py",
   "mimetype": "text/x-python",
   "name": "python",
   "nbconvert_exporter": "python",
   "pygments_lexer": "ipython3",
   "version": "3.9.6"
  },
  "vscode": {
   "interpreter": {
    "hash": "d51804c197868cb8ed22899dcd318e00f8da179c4203b30505e711f2c519d65a"
   }
  }
 },
 "nbformat": 4,
 "nbformat_minor": 4
}
