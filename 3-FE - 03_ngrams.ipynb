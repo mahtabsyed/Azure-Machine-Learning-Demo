{
 "cells": [
  {
   "cell_type": "code",
   "execution_count": null,
   "metadata": {},
   "outputs": [],
   "source": [
    "import nltk\n",
    "from sklearn.feature_extraction.text import CountVectorizer\n",
    "from sklearn.decomposition import TruncatedSVD\n",
    "\n",
    "def sklearn_count_vect(data, **kwargs):\n",
    "    count_vect = CountVectorizer(**kwargs)\n",
    "    X_train_counts = count_vect.fit_transform(data)\n",
    "    print(X_train_counts)\n",
    "    print(count_vect.vocabulary_)\n",
    "    return X_train_counts\n",
    "\n",
    "def skipgram(document, r=2, skip=1):\n",
    "    return nltk.skipgrams(document.split(' '), r, skip)\n",
    "\n",
    "def run_svd(data):\n",
    "    svd = TruncatedSVD(n_components=1, random_state=42)\n",
    "    data_tf = svd.fit_transform(data)\n",
    "    print(data_tf)\n",
    "    print(svd.explained_variance_ratio_.sum())  \n",
    "    return data_tf  "
   ]
  },
  {
   "cell_type": "code",
   "execution_count": null,
   "metadata": {},
   "outputs": [],
   "source": [
    "import numpy as np\n",
    "\n",
    "document = \"Almost before we knew it, we had left the ground. The unknown holds its grounds.\"\n",
    "print('Document:', document)\n",
    "\n",
    "sklearn_count_vect([document])\n",
    "\n",
    "d = [\"Lorem ipsum dolor sit amet, consectetur adipiscing elit.\",\n",
    "     \"Maecenas eleifend ornare justo vestibulum consequat.\",\n",
    "     \"Mauris finibus hendrerit risus egestas vehicula.\",\n",
    "     \"Duis lacinia sed neque nec volutpat.\",\n",
    "     \"Vivamus mollis lacus id nunc semper consectetur.\",\n",
    "     \"Pellentesque nec dignissim odio.\"]\n",
    "\n",
    "X = sklearn_count_vect(d, ngram_range=(1,2))\n",
    "\n",
    "run_svd(X)\n",
    "\n",
    "words = skipgram(document, 2, 1)\n",
    "print(list(words))"
   ]
  }
 ],
 "metadata": {
  "interpreter": {
   "hash": "c39ce73b6d48f343ffd00681afb9b3f63104480cfaffe0ebb445fe41a6801158"
  },
  "kernelspec": {
   "display_name": "Python 3.8.2 64-bit ('packt-repo-M2qY5kM-': pipenv)",
   "name": "python3"
  },
  "language_info": {
   "codemirror_mode": {
    "name": "ipython",
    "version": 3
   },
   "file_extension": ".py",
   "mimetype": "text/x-python",
   "name": "python",
   "nbconvert_exporter": "python",
   "pygments_lexer": "ipython3",
   "version": "3.8.2"
  }
 },
 "nbformat": 4,
 "nbformat_minor": 4
}
