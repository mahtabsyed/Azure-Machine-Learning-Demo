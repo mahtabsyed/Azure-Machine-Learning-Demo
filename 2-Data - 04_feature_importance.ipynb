{
 "cells": [
  {
   "cell_type": "code",
   "execution_count": null,
   "metadata": {},
   "outputs": [],
   "source": [
    "import pandas as pd\n",
    "import seaborn as sns\n",
    "import matplotlib.pyplot as plt\n",
    "import numpy as np\n",
    "sns.set(style='whitegrid', context='notebook', rc={'figure.figsize':(7, 5)})"
   ]
  },
  {
   "cell_type": "code",
   "execution_count": null,
   "metadata": {},
   "outputs": [],
   "source": [
    "from sklearn.datasets import *\n",
    "\n",
    "data = load_wine()\n",
    "df = pd.DataFrame(data=data.data, columns=data.feature_names)\n",
    "df['class'] = load_wine(True)[1]\n",
    "\n",
    "df.head()"
   ]
  },
  {
   "cell_type": "code",
   "execution_count": null,
   "metadata": {},
   "outputs": [],
   "source": [
    "from sklearn.ensemble import ExtraTreesClassifier\n",
    "\n",
    "columns_short = [\n",
    "    'alcohol', 'malic acid', 'ash', 'alcalinity of ash', 'magnesium', 'total phenols',\n",
    "    'flavanoids', 'nonflavanoid phenols', 'proanthocyanins', 'color intensity',  'hue',\n",
    "    'od280/od315', 'proline']\n",
    "\n",
    "# Build a classification task using 3 informative features\n",
    "cols = [c for c in df.columns if c != 'class']\n",
    "X = df[cols]\n",
    "y = df['class']\n",
    "\n",
    "# Build a forest and compute the feature importances\n",
    "forest = ExtraTreesClassifier(n_estimators=250, criterion='entropy', random_state=0)\n",
    "\n",
    "forest.fit(X, y)\n",
    "\n",
    "importances = forest.feature_importances_\n",
    "tree_importances = np.array([tree.feature_importances_ for tree in forest.estimators_])\n",
    "indices = np.argsort(importances)[::-1]\n",
    "\n",
    "df_imp = pd.DataFrame([tree.feature_importances_ for tree in forest.estimators_], columns = cols)\n",
    "\n",
    "# Sort columns by importance\n",
    "df_imp = df_imp[[cols[i] for i in indices.tolist()]]\n",
    "df_imp.head()"
   ]
  },
  {
   "cell_type": "code",
   "execution_count": null,
   "metadata": {},
   "outputs": [],
   "source": [
    "sns.set(style=\"whitegrid\")\n",
    "palette = sns.color_palette(n_colors=3)\n",
    "fig = plt.figure()\n",
    "\n",
    "ax = sns.barplot(data=df_imp, color=palette[1], capsize=.2, errwidth=1.2)\n",
    "plt.title(\"Feature importances\")\n",
    "plt.xticks(range(X.shape[1]), [columns_short[i] for i in indices.tolist()], rotation='vertical')\n",
    "plt.show()"
   ]
  }
 ],
 "metadata": {
  "interpreter": {
   "hash": "f2575392019334285e0602a4035eec46b9260ee4c95297ea34ade6e3c8b8fcaf"
  },
  "kernelspec": {
   "display_name": "Python 3.8.10 64-bit",
   "name": "python3"
  },
  "language_info": {
   "codemirror_mode": {
    "name": "ipython",
    "version": 3
   },
   "file_extension": ".py",
   "mimetype": "text/x-python",
   "name": "python",
   "nbconvert_exporter": "python",
   "pygments_lexer": "ipython3",
   "version": "3.8.10"
  }
 },
 "nbformat": 4,
 "nbformat_minor": 4
}
