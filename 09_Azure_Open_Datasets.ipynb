{
 "cells": [
  {
   "cell_type": "code",
   "execution_count": null,
   "metadata": {},
   "outputs": [],
   "source": [
    "from azureml.opendatasets import PublicHolidays\n",
    "from dateutil import parser\n",
    "\n",
    "end_date = parser.parse(\"Jan 10 2000 12:00AM\")\n",
    "start_date = parser.parse(\"Jan 10 2010 12:00AM\")\n",
    "ds = PublicHolidays(start_date=start_date, end_date=end_date)\n",
    "df = ds.to_pandas_dataframe()\n",
    "\n",
    "df.head()"
   ]
  }
 ],
 "metadata": {
  "interpreter": {
   "hash": "808e9cd34aec79dac17446e9696ff9ceb124468c8ada910a26447e0eb67daee5"
  },
  "kernelspec": {
   "display_name": "Python 3.8.2 64-bit ('packt-repo-M2qY5kM-': pipenv)",
   "language": "python",
   "name": "python3"
  },
  "language_info": {
   "name": "python",
   "version": "3.8.2"
  },
  "orig_nbformat": 4
 },
 "nbformat": 4,
 "nbformat_minor": 2
}
