{
 "cells": [
  {
   "cell_type": "code",
   "execution_count": null,
   "metadata": {},
   "outputs": [],
   "source": [
    "import pandas as pd\n",
    "import seaborn as sns\n",
    "import matplotlib.pyplot as plt\n",
    "import numpy as np\n",
    "sns.set(style='ticks', context='notebook', rc={'figure.figsize':(7, 5)})"
   ]
  },
  {
   "cell_type": "code",
   "execution_count": null,
   "metadata": {},
   "outputs": [],
   "source": [
    "from sklearn.datasets import *\n",
    "\n",
    "data = load_wine()\n",
    "d = pd.DataFrame(data=data.data, columns=data.feature_names)\n",
    "d['class'] = load_wine(True)[1]\n",
    "\n",
    "# Build a classification task using 3 informative features\n",
    "cols = [c for c in d.columns if c != 'class']\n",
    "X = d[cols]\n",
    "y = d['class']\n",
    "\n",
    "d.head()"
   ]
  },
  {
   "cell_type": "code",
   "execution_count": null,
   "metadata": {},
   "outputs": [],
   "source": [
    "markers = {0: \"s\", 1: \"o\", 2: \"X\"}\n",
    "palette = sns.color_palette(n_colors=len(np.unique(y)))"
   ]
  },
  {
   "cell_type": "code",
   "execution_count": null,
   "metadata": {},
   "outputs": [],
   "source": [
    "from sklearn.decomposition import PCA\n",
    "\n",
    "pca = PCA(n_components=2)\n",
    "X_t = pca.fit_transform(X)\n",
    "\n",
    "sns.scatterplot(X_t[:,0], X_t[:,1], hue=y, style=y, markers=markers, palette=palette)\n",
    "plt.title('PCA')\n",
    "plt.show()"
   ]
  },
  {
   "cell_type": "code",
   "execution_count": null,
   "metadata": {},
   "outputs": [],
   "source": [
    "from sklearn.discriminant_analysis import LinearDiscriminantAnalysis\n",
    "\n",
    "clf = LinearDiscriminantAnalysis(n_components=2)\n",
    "X_t = clf.fit_transform(X, y)\n",
    "\n",
    "sns.scatterplot(X_t[:,0], X_t[:,1], hue=y, style=y, markers=markers, palette=palette)\n",
    "plt.title('LDA')\n",
    "plt.show()"
   ]
  },
  {
   "cell_type": "code",
   "execution_count": null,
   "metadata": {},
   "outputs": [],
   "source": [
    "from sklearn.manifold import TSNE\n",
    "\n",
    "clf = TSNE(n_components=2, perplexity=30, learning_rate=15, random_state=1)\n",
    "X_t = clf.fit_transform(X)\n",
    "\n",
    "sns.scatterplot(X_t[:,0], X_t[:,1], hue=y, style=y, markers=markers, palette=palette)\n",
    "plt.title('t-SNE')\n",
    "plt.show()"
   ]
  },
  {
   "cell_type": "code",
   "execution_count": null,
   "metadata": {},
   "outputs": [],
   "source": [
    "import umap as umap\n",
    "\n",
    "np.random.seed(2)\n",
    "reducer = umap.UMAP(n_neighbors=10, min_dist=1, n_components=2)\n",
    "X_t = reducer.fit_transform(X)\n",
    "\n",
    "sns.scatterplot(X_t[:,0], X_t[:,1], hue=y, style=y, markers=markers, palette=palette)\n",
    "plt.title('UMAP')\n",
    "plt.show()"
   ]
  }
 ],
 "metadata": {
  "interpreter": {
   "hash": "f2575392019334285e0602a4035eec46b9260ee4c95297ea34ade6e3c8b8fcaf"
  },
  "kernelspec": {
   "display_name": "Python 3.8.10 64-bit",
   "name": "python3"
  },
  "language_info": {
   "codemirror_mode": {
    "name": "ipython",
    "version": 3
   },
   "file_extension": ".py",
   "mimetype": "text/x-python",
   "name": "python",
   "nbconvert_exporter": "python",
   "pygments_lexer": "ipython3",
   "version": "3.8.10"
  }
 },
 "nbformat": 4,
 "nbformat_minor": 4
}
