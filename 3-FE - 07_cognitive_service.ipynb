{
 "cells": [
  {
   "cell_type": "code",
   "execution_count": null,
   "metadata": {},
   "outputs": [],
   "source": [
    "import requests\n",
    "\n",
    "region='westeurope'\n",
    "language='en'\n",
    "version='v3.1'\n",
    "\n",
    "key = '2fcb1177d1fa4ef38450219caf48880f'\n",
    "\n",
    "url = \"https://{region}.api.cognitive.microsoft.com/text/analytics/{version}/sentiment\".format(\n",
    "    region=region, version=version)\n",
    "\n",
    "params = {\n",
    "    'showStats': False\n",
    "}\n",
    "headers = {\n",
    "    'Content-Type': 'application/json',\n",
    "    'Ocp-Apim-Subscription-Key': key\n",
    "}\n",
    "payload = {\n",
    "    'documents': [{\n",
    "        'id': '1',\n",
    "        'text': 'This is some input text that I love.',\n",
    "        'language': language   \n",
    "    }]\n",
    "}\n",
    "\n",
    "response = requests.post(url, json=payload, params=params, headers=headers)\n",
    "result = response.json()\n",
    "result"
   ]
  }
 ],
 "metadata": {
  "interpreter": {
   "hash": "c39ce73b6d48f343ffd00681afb9b3f63104480cfaffe0ebb445fe41a6801158"
  },
  "kernelspec": {
   "display_name": "Python 3.8.2 64-bit ('packt-repo-M2qY5kM-': pipenv)",
   "name": "python3"
  },
  "language_info": {
   "codemirror_mode": {
    "name": "ipython",
    "version": 3
   },
   "file_extension": ".py",
   "mimetype": "text/x-python",
   "name": "python",
   "nbconvert_exporter": "python",
   "pygments_lexer": "ipython3",
   "version": "3.8.2"
  },
  "orig_nbformat": 4
 },
 "nbformat": 4,
 "nbformat_minor": 2
}
