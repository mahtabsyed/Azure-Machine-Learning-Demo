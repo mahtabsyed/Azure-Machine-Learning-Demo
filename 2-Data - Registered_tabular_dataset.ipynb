{
 "cells": [
  {
   "cell_type": "code",
   "execution_count": null,
   "metadata": {},
   "outputs": [],
   "source": [
    "from utils import *"
   ]
  },
  {
   "cell_type": "code",
   "execution_count": null,
   "metadata": {},
   "outputs": [],
   "source": [
    "from azureml.core import Workspace, Experiment\n",
    "ws = Workspace.from_config()\n",
    "exp = Experiment(workspace=ws, name='access_dataset')"
   ]
  },
  {
   "cell_type": "code",
   "execution_count": null,
   "metadata": {},
   "outputs": [],
   "source": [
    "from azureml.core import Dataset\n",
    "\n",
    "path ='https://dprepdata.blob.core.windows.net/demo/Titanic.csv'\n",
    "\n",
    "# Create a direct dataset\n",
    "ds = Dataset.Tabular.from_delimited_files(path)\n",
    "ds"
   ]
  },
  {
   "cell_type": "code",
   "execution_count": null,
   "metadata": {},
   "outputs": [],
   "source": [
    "# Register the dataset\n",
    "ds = ds.register(workspace=ws, name=\"titanic\")\n",
    "ds"
   ]
  },
  {
   "cell_type": "code",
   "execution_count": null,
   "metadata": {},
   "outputs": [],
   "source": [
    "# list all datasets from a workspace\n",
    "datasets = Dataset.get_all(ws)\n",
    "datasets"
   ]
  },
  {
   "cell_type": "code",
   "execution_count": null,
   "metadata": {},
   "outputs": [],
   "source": [
    "# Now we can retrieve the dataset by name (and version)\n",
    "ds = Dataset.get_by_name(ws, \"titanic\")\n",
    "ds"
   ]
  },
  {
   "cell_type": "code",
   "execution_count": null,
   "metadata": {},
   "outputs": [],
   "source": [
    "ds.to_pandas_dataframe()"
   ]
  },
  {
   "cell_type": "code",
   "execution_count": null,
   "metadata": {},
   "outputs": [],
   "source": [
    "from azureml.core import ScriptRunConfig\n",
    "\n",
    "src = ScriptRunConfig(source_directory=\"code\",\n",
    "                      script='access_data_from_dataset.py',\n",
    "                      arguments=['--input', ds.as_named_input('titanic')],\n",
    "                      environment=get_current_env())\n",
    "\n",
    "# Submit the run configuration for your training run\n",
    "run = exp.submit(src)\n",
    "run.wait_for_completion(show_output=True)  "
   ]
  },
  {
   "cell_type": "code",
   "execution_count": null,
   "metadata": {},
   "outputs": [],
   "source": []
  }
 ],
 "metadata": {
  "kernelspec": {
   "display_name": "Python 3.9.6 ('.venv': venv)",
   "language": "python",
   "name": "python3"
  },
  "language_info": {
   "codemirror_mode": {
    "name": "ipython",
    "version": 3
   },
   "file_extension": ".py",
   "mimetype": "text/x-python",
   "name": "python",
   "nbconvert_exporter": "python",
   "pygments_lexer": "ipython3",
   "version": "3.9.6"
  },
  "orig_nbformat": 4,
  "vscode": {
   "interpreter": {
    "hash": "d51804c197868cb8ed22899dcd318e00f8da179c4203b30505e711f2c519d65a"
   }
  }
 },
 "nbformat": 4,
 "nbformat_minor": 2
}
